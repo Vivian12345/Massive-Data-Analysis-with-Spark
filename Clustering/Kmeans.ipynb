{
 "cells": [
  {
   "cell_type": "code",
   "execution_count": 7,
   "metadata": {},
   "outputs": [],
   "source": [
    "from pyspark import SparkConf, SparkContext"
   ]
  },
  {
   "cell_type": "code",
   "execution_count": 8,
   "metadata": {
    "scrolled": true
   },
   "outputs": [],
   "source": [
    "conf = SparkConf().setMaster(\"local[*]\").setAppName(\"Kmeans\")\n",
    "sc = SparkContext(conf=conf)"
   ]
  },
  {
   "cell_type": "code",
   "execution_count": 53,
   "metadata": {},
   "outputs": [],
   "source": [
    "data = sc.textFile(\"data.txt\").map(lambda line: line.split(\"\\t\"))"
   ]
  },
  {
   "cell_type": "code",
   "execution_count": 54,
   "metadata": {},
   "outputs": [],
   "source": [
    "data1 = sc.parallelize(list(enumerate(data.collect()))).map(lambda x: (x[0],x[1][0].split(\" \")))"
   ]
  },
  {
   "cell_type": "code",
   "execution_count": 55,
   "metadata": {},
   "outputs": [],
   "source": [
    "c1 = sc.textFile(\"c1.txt\").map(lambda line: line.split(\"\\t\"))"
   ]
  },
  {
   "cell_type": "code",
   "execution_count": 56,
   "metadata": {},
   "outputs": [],
   "source": [
    "c11 = sc.parallelize(list(enumerate(c1.collect()))).map(lambda x: (x[0],x[1][0].split(\" \")))"
   ]
  },
  {
   "cell_type": "code",
   "execution_count": 57,
   "metadata": {},
   "outputs": [],
   "source": [
    "c2 = sc.textFile(\"c2.txt\").map(lambda line: line.split(\"\\t\"))"
   ]
  },
  {
   "cell_type": "code",
   "execution_count": 58,
   "metadata": {},
   "outputs": [],
   "source": [
    "c21 = sc.parallelize(list(enumerate(c2.collect()))).map(lambda x: (x[0],x[1][0].split(\" \")))"
   ]
  },
  {
   "cell_type": "code",
   "execution_count": 59,
   "metadata": {},
   "outputs": [],
   "source": [
    "dict_data = {}\n",
    "dict_data.update(data1.collect())"
   ]
  },
  {
   "cell_type": "code",
   "execution_count": 192,
   "metadata": {},
   "outputs": [],
   "source": [
    "dict_c1 = {}\n",
    "dict_c1.update(c11.collect())"
   ]
  },
  {
   "cell_type": "code",
   "execution_count": 193,
   "metadata": {},
   "outputs": [],
   "source": [
    "dict_c2 = {}\n",
    "dict_c2.update(c21.collect())"
   ]
  },
  {
   "cell_type": "markdown",
   "metadata": {},
   "source": [
    "# 0. 總共跑4次差不多的過程，由上而下(1)-(4)分別是Euclidean與C1、Euclidean與C2、Manhattan與C1、Manhattan與C2"
   ]
  },
  {
   "cell_type": "markdown",
   "metadata": {},
   "source": [
    "# Euclidean Distance"
   ]
  },
  {
   "cell_type": "markdown",
   "metadata": {},
   "source": [
    "# (1)C1"
   ]
  },
  {
   "cell_type": "markdown",
   "metadata": {},
   "source": [
    "# 1.mapper1:算出離最近的cluster的距離，並儲存其編號"
   ]
  },
  {
   "cell_type": "code",
   "execution_count": 194,
   "metadata": {},
   "outputs": [],
   "source": [
    "def mapper1(x):\n",
    "    all_dis = []\n",
    "    #有幾個dimension就要跑幾次\n",
    "    for i in range(len(dict_c1)):\n",
    "        distance = 0\n",
    "        #和每個center做比較\n",
    "        for c in range(len(dict_c1[0])):\n",
    "            distance += (eval(x[1][c])-eval(dict_c1[i][c])) ** 2\n",
    "        #將與這10個center的距離list起來\n",
    "        all_dis.append((i,distance))\n",
    "    return (x[0], min(all_dis, key=lambda y: y[1])) #後面那一項選list裡面distance最小的(i,distance)"
   ]
  },
  {
   "cell_type": "code",
   "execution_count": 195,
   "metadata": {},
   "outputs": [],
   "source": [
    "data2 = data1.map(mapper1)"
   ]
  },
  {
   "cell_type": "markdown",
   "metadata": {},
   "source": [
    "# 2.只需將所有distance相加就可得到cost_function"
   ]
  },
  {
   "cell_type": "code",
   "execution_count": 196,
   "metadata": {},
   "outputs": [],
   "source": [
    "cost_function = data2.map(lambda x: x[1]).values().sum()"
   ]
  },
  {
   "cell_type": "code",
   "execution_count": 197,
   "metadata": {},
   "outputs": [],
   "source": [
    "cost_list1 = []"
   ]
  },
  {
   "cell_type": "code",
   "execution_count": 198,
   "metadata": {},
   "outputs": [],
   "source": [
    "cost_list1.append(cost_function)"
   ]
  },
  {
   "cell_type": "markdown",
   "metadata": {},
   "source": [
    "# 3.算出新的center\n",
    "+ distribute: return (\"最近距離中心\"的編號，座標編號)\n",
    "+ cluster: groupbykey之後 return (中心編號，\"被分類到此中心的所有座標\"的編號)\n",
    "+ mapper2: 對於每個中心，把\"被分類到此中心的所有座標\"取平均得到一個新的中心"
   ]
  },
  {
   "cell_type": "code",
   "execution_count": 199,
   "metadata": {},
   "outputs": [],
   "source": [
    "distribute = data2.map(lambda x: (x[1][0],x[0]))"
   ]
  },
  {
   "cell_type": "code",
   "execution_count": 200,
   "metadata": {},
   "outputs": [],
   "source": [
    "cluster = distribute.groupByKey()"
   ]
  },
  {
   "cell_type": "code",
   "execution_count": 201,
   "metadata": {},
   "outputs": [],
   "source": [
    "def mapper2(x):\n",
    "    list4 = []\n",
    "    amount = len(x[1])\n",
    "    #有幾個dimension\n",
    "    for i in range(len(dict_data[0])):\n",
    "        sum2 = 0\n",
    "        #每一個被分配到此中心的座標\n",
    "        for c in x[1]:\n",
    "            sum2 += eval(dict_data[c][i])\n",
    "        #每次append新中心的1個dimension\n",
    "        list4.append(sum2/amount)      \n",
    "    return (x[0],list4) #list4最後會是新中心的座標"
   ]
  },
  {
   "cell_type": "code",
   "execution_count": 202,
   "metadata": {},
   "outputs": [],
   "source": [
    "new_center = cluster.map(mapper2)"
   ]
  },
  {
   "cell_type": "code",
   "execution_count": 203,
   "metadata": {},
   "outputs": [],
   "source": [
    "dict_c1.update(new_center.collect())"
   ]
  },
  {
   "cell_type": "markdown",
   "metadata": {},
   "source": [
    "# 4.再跑19次"
   ]
  },
  {
   "cell_type": "code",
   "execution_count": 204,
   "metadata": {},
   "outputs": [],
   "source": [
    "def mapper3(x):\n",
    "    all_dis = []\n",
    "    for i in range(len(dict_c1)):\n",
    "        distance = 0\n",
    "        for c in range(len(dict_c1[0])):\n",
    "            distance += (eval(x[1][c])-dict_c1[i][c]) ** 2\n",
    "        all_dis.append((i,distance))\n",
    "    return (x[0], min(all_dis, key=lambda y: y[1]))"
   ]
  },
  {
   "cell_type": "code",
   "execution_count": 205,
   "metadata": {},
   "outputs": [],
   "source": [
    "for i in range(19):\n",
    "    data2 = data1.map(mapper3)\n",
    "    \n",
    "    #cost_function\n",
    "    cost_function = data2.map(lambda x: x[1]).values().sum()\n",
    "    cost_list1.append(cost_function)\n",
    "    \n",
    "    #new_center\n",
    "    distribute = data2.map(lambda x: (x[1][0],x[0]))\n",
    "    cluster = distribute.groupByKey()\n",
    "    new_center = cluster.map(mapper2)\n",
    "    dict_c1.update(new_center.collect())"
   ]
  },
  {
   "cell_type": "code",
   "execution_count": 74,
   "metadata": {
    "collapsed": true
   },
   "outputs": [
    {
     "data": {
      "text/plain": [
       "[623660345.3064113,\n",
       " 509862908.2975454,\n",
       " 485480681.8720078,\n",
       " 463997011.685013,\n",
       " 460969266.5729963,\n",
       " 460537847.98276776,\n",
       " 460313099.6535457,\n",
       " 460003523.88940746,\n",
       " 459570539.3177351,\n",
       " 459021103.3422907,\n",
       " 458490656.191981,\n",
       " 457944232.5879743,\n",
       " 457558005.1986762,\n",
       " 457290136.35230225,\n",
       " 457050555.0595627,\n",
       " 456892235.61535454,\n",
       " 456703630.7370334,\n",
       " 456404203.01897496,\n",
       " 456177800.5419933,\n",
       " 455986871.0273458]"
      ]
     },
     "execution_count": 74,
     "metadata": {},
     "output_type": "execute_result"
    }
   ],
   "source": [
    "cost_list1"
   ]
  },
  {
   "cell_type": "markdown",
   "metadata": {},
   "source": [
    "# 5.計算percentage_improvement"
   ]
  },
  {
   "cell_type": "code",
   "execution_count": 206,
   "metadata": {},
   "outputs": [],
   "source": [
    "percentage_improvement_c1_e = abs(cost_list1[-1]-cost_list1[0])/cost_list1[0] "
   ]
  },
  {
   "cell_type": "code",
   "execution_count": 207,
   "metadata": {},
   "outputs": [
    {
     "data": {
      "text/plain": [
       "0.26885383292517284"
      ]
     },
     "execution_count": 207,
     "metadata": {},
     "output_type": "execute_result"
    }
   ],
   "source": [
    "percentage_improvement_c1_e"
   ]
  },
  {
   "cell_type": "code",
   "execution_count": 208,
   "metadata": {},
   "outputs": [],
   "source": [
    "list_data = list(new_center.collect())"
   ]
  },
  {
   "cell_type": "code",
   "execution_count": 209,
   "metadata": {},
   "outputs": [],
   "source": [
    "list_data.sort()"
   ]
  },
  {
   "cell_type": "markdown",
   "metadata": {},
   "source": [
    "# 6.算出中心點之間的Euclidean Distances和Manhattan Distances"
   ]
  },
  {
   "cell_type": "code",
   "execution_count": 210,
   "metadata": {},
   "outputs": [],
   "source": [
    "def mapper4(x):\n",
    "    list4 = []\n",
    "    list5 = []\n",
    "    for c in list_data:\n",
    "        if c[0] <= x[0]:\n",
    "            list4.append(0.0)\n",
    "            list5.append(0.0)\n",
    "        else:\n",
    "            sum_4 = 0\n",
    "            sum_5 = 0\n",
    "            for k in range(len(x[1])):\n",
    "                sum_4 += (x[1][k]-c[1][k]) ** 2\n",
    "                sum_5 += abs(x[1][k]-c[1][k])\n",
    "            list4.append(sum_4 ** (1/2))\n",
    "            list5.append(sum_5)\n",
    "    return (x[0],list4,list5)"
   ]
  },
  {
   "cell_type": "code",
   "execution_count": 226,
   "metadata": {},
   "outputs": [],
   "source": [
    "new_center_list = new_center.map(mapper4)"
   ]
  },
  {
   "cell_type": "code",
   "execution_count": 227,
   "metadata": {},
   "outputs": [],
   "source": [
    "ec1 = list(new_center_list.collect())"
   ]
  },
  {
   "cell_type": "code",
   "execution_count": 228,
   "metadata": {
    "collapsed": true
   },
   "outputs": [
    {
     "data": {
      "text/plain": [
       "[(8,\n",
       "  [0.0, 0.0, 0.0, 0.0, 0.0, 0.0, 0.0, 0.0, 0.0, 975.3204225971708],\n",
       "  [0.0, 0.0, 0.0, 0.0, 0.0, 0.0, 0.0, 0.0, 0.0, 1327.5839795031056]),\n",
       " (0,\n",
       "  [0.0,\n",
       "   692.1578865536187,\n",
       "   3490.2586403239793,\n",
       "   205.75027883457204,\n",
       "   346.71882253414816,\n",
       "   512.6122467083617,\n",
       "   444.7310005470825,\n",
       "   566.2019922936282,\n",
       "   1282.7708445154385,\n",
       "   307.66912835221507],\n",
       "  [0.0,\n",
       "   728.9243139995409,\n",
       "   3797.8990780180675,\n",
       "   212.18109038688195,\n",
       "   374.8904224625678,\n",
       "   577.4020758222025,\n",
       "   499.1578939470968,\n",
       "   645.7697774866793,\n",
       "   1731.0643066429416,\n",
       "   406.70122510554586]),\n",
       " (9,\n",
       "  [0.0, 0.0, 0.0, 0.0, 0.0, 0.0, 0.0, 0.0, 0.0, 0.0],\n",
       "  [0.0, 0.0, 0.0, 0.0, 0.0, 0.0, 0.0, 0.0, 0.0, 0.0]),\n",
       " (1,\n",
       "  [0.0,\n",
       "   0.0,\n",
       "   2798.8010531589434,\n",
       "   897.6589863450828,\n",
       "   1038.8268882911389,\n",
       "   1204.0781989863117,\n",
       "   1136.3273438149283,\n",
       "   1257.4495275592424,\n",
       "   669.8902282318555,\n",
       "   412.076077167744],\n",
       "  [0.0,\n",
       "   0.0,\n",
       "   3072.8886904466503,\n",
       "   935.8853379058191,\n",
       "   1100.833091013825,\n",
       "   1303.8957233218873,\n",
       "   1225.351713180189,\n",
       "   1372.0922054892176,\n",
       "   1005.2930456989247,\n",
       "   490.9280581546785]),\n",
       " (2,\n",
       "  [0.0,\n",
       "   0.0,\n",
       "   0.0,\n",
       "   3695.114191079636,\n",
       "   3836.9066381524567,\n",
       "   4002.6890825730284,\n",
       "   3934.8715588311575,\n",
       "   4056.1355729719103,\n",
       "   2294.57964158953,\n",
       "   3195.9239010108936],\n",
       "  [0.0,\n",
       "   0.0,\n",
       "   0.0,\n",
       "   4001.0380519416276,\n",
       "   4170.304532612548,\n",
       "   4372.788718801669,\n",
       "   4294.952834221333,\n",
       "   4440.719767637059,\n",
       "   2513.422660256411,\n",
       "   3396.4200031055902]),\n",
       " (3,\n",
       "  [0.0,\n",
       "   0.0,\n",
       "   0.0,\n",
       "   0.0,\n",
       "   142.43887392408647,\n",
       "   309.50632446700047,\n",
       "   241.7301145044183,\n",
       "   363.2628951046584,\n",
       "   1474.9454213642691,\n",
       "   504.63411599571515],\n",
       "  [0.0,\n",
       "   0.0,\n",
       "   0.0,\n",
       "   0.0,\n",
       "   171.3651541556152,\n",
       "   375.2479208943975,\n",
       "   296.25472354226696,\n",
       "   443.49844537759145,\n",
       "   1934.086959807074,\n",
       "   609.749321623295]),\n",
       " (4,\n",
       "  [0.0,\n",
       "   0.0,\n",
       "   0.0,\n",
       "   0.0,\n",
       "   0.0,\n",
       "   167.1498001315246,\n",
       "   99.54554331498562,\n",
       "   220.90178372040566,\n",
       "   1615.852353440387,\n",
       "   646.9305638786212],\n",
       "  [0.0,\n",
       "   0.0,\n",
       "   0.0,\n",
       "   0.0,\n",
       "   0.0,\n",
       "   204.52292364239253,\n",
       "   125.59678617977005,\n",
       "   272.93491284339433,\n",
       "   2102.8649228110594,\n",
       "   779.3972267080745]),\n",
       " (5,\n",
       "  [0.0,\n",
       "   0.0,\n",
       "   0.0,\n",
       "   0.0,\n",
       "   0.0,\n",
       "   0.0,\n",
       "   67.91186107588504,\n",
       "   53.78989116172683,\n",
       "   1782.2030486002302,\n",
       "   814.0761501339795],\n",
       "  [0.0,\n",
       "   0.0,\n",
       "   0.0,\n",
       "   0.0,\n",
       "   0.0,\n",
       "   0.0,\n",
       "   79.40168444202222,\n",
       "   69.58987631971816,\n",
       "   2306.3802505970657,\n",
       "   983.019680661424]),\n",
       " (6,\n",
       "  [0.0,\n",
       "   0.0,\n",
       "   0.0,\n",
       "   0.0,\n",
       "   0.0,\n",
       "   0.0,\n",
       "   0.0,\n",
       "   121.63372043718282,\n",
       "   1715.2531997144126,\n",
       "   746.3355586141014],\n",
       "  [0.0,\n",
       "   0.0,\n",
       "   0.0,\n",
       "   0.0,\n",
       "   0.0,\n",
       "   0.0,\n",
       "   0.0,\n",
       "   147.86570909768562,\n",
       "   2227.555856782107,\n",
       "   904.3702500156849]),\n",
       " (7,\n",
       "  [0.0,\n",
       "   0.0,\n",
       "   0.0,\n",
       "   0.0,\n",
       "   0.0,\n",
       "   0.0,\n",
       "   0.0,\n",
       "   0.0,\n",
       "   1835.6396718448902,\n",
       "   867.8230790917461],\n",
       "  [0.0,\n",
       "   0.0,\n",
       "   0.0,\n",
       "   0.0,\n",
       "   0.0,\n",
       "   0.0,\n",
       "   0.0,\n",
       "   0.0,\n",
       "   2374.545430478822,\n",
       "   1050.9162214834769])]"
      ]
     },
     "execution_count": 228,
     "metadata": {},
     "output_type": "execute_result"
    }
   ],
   "source": [
    "ec1"
   ]
  },
  {
   "cell_type": "markdown",
   "metadata": {},
   "source": []
  },
  {
   "cell_type": "code",
   "execution_count": null,
   "metadata": {},
   "outputs": [],
   "source": []
  },
  {
   "cell_type": "code",
   "execution_count": null,
   "metadata": {},
   "outputs": [],
   "source": []
  },
  {
   "cell_type": "markdown",
   "metadata": {},
   "source": [
    "# (2)C2"
   ]
  },
  {
   "cell_type": "code",
   "execution_count": 229,
   "metadata": {},
   "outputs": [],
   "source": [
    "def mapper1_1(x):\n",
    "    all_dis = []\n",
    "    for i in range(len(dict_c2)):\n",
    "        distance = 0\n",
    "        for c in range(len(dict_c2[0])):\n",
    "            distance += (eval(x[1][c])-eval(dict_c2[i][c])) ** 2\n",
    "        all_dis.append((i,distance))\n",
    "    return (x[0], min(all_dis, key=lambda y: y[1]))"
   ]
  },
  {
   "cell_type": "code",
   "execution_count": 230,
   "metadata": {},
   "outputs": [],
   "source": [
    "data2_1 = data1.map(mapper1_1)"
   ]
  },
  {
   "cell_type": "markdown",
   "metadata": {},
   "source": [
    "# cost_function_C2"
   ]
  },
  {
   "cell_type": "code",
   "execution_count": 231,
   "metadata": {},
   "outputs": [],
   "source": [
    "cost_function_1 = data2_1.map(lambda x: x[1]).values().sum()"
   ]
  },
  {
   "cell_type": "code",
   "execution_count": 232,
   "metadata": {},
   "outputs": [],
   "source": [
    "cost_list1_1 = []"
   ]
  },
  {
   "cell_type": "code",
   "execution_count": 233,
   "metadata": {},
   "outputs": [],
   "source": [
    "cost_list1_1.append(cost_function_1)"
   ]
  },
  {
   "cell_type": "markdown",
   "metadata": {},
   "source": [
    "# new_center_C2"
   ]
  },
  {
   "cell_type": "code",
   "execution_count": 234,
   "metadata": {},
   "outputs": [],
   "source": [
    "distribute_1 = data2_1.map(lambda x: (x[1][0],x[0]))"
   ]
  },
  {
   "cell_type": "code",
   "execution_count": 235,
   "metadata": {},
   "outputs": [],
   "source": [
    "cluster_1 = distribute_1.groupByKey()"
   ]
  },
  {
   "cell_type": "code",
   "execution_count": 236,
   "metadata": {},
   "outputs": [],
   "source": [
    "def mapper2_1(x):\n",
    "    list4 = []\n",
    "    amount = len(x[1])\n",
    "    for i in range(len(dict_data[0])):\n",
    "        sum2 = 0\n",
    "        for c in x[1]:\n",
    "            sum2 += eval(dict_data[c][i])\n",
    "        list4.append(sum2/amount)      \n",
    "    return (x[0],list4)"
   ]
  },
  {
   "cell_type": "code",
   "execution_count": 237,
   "metadata": {},
   "outputs": [],
   "source": [
    "new_center_1 = cluster_1.map(mapper2_1)"
   ]
  },
  {
   "cell_type": "code",
   "execution_count": 238,
   "metadata": {},
   "outputs": [],
   "source": [
    "dict_c2.update(new_center_1.collect())"
   ]
  },
  {
   "cell_type": "markdown",
   "metadata": {},
   "source": [
    "# iteration"
   ]
  },
  {
   "cell_type": "code",
   "execution_count": 239,
   "metadata": {},
   "outputs": [],
   "source": [
    "def mapper3_1(x):\n",
    "    all_dis = []\n",
    "    for i in range(len(dict_c2)):\n",
    "        distance = 0\n",
    "        for c in range(len(dict_c2[0])):\n",
    "            distance += (eval(x[1][c])-dict_c2[i][c]) ** 2\n",
    "        all_dis.append((i,distance))\n",
    "    return (x[0], min(all_dis, key=lambda y: y[1]))"
   ]
  },
  {
   "cell_type": "code",
   "execution_count": 240,
   "metadata": {},
   "outputs": [],
   "source": [
    "for i in range(19):\n",
    "    data2_1 = data1.map(mapper3_1)\n",
    "    \n",
    "    #cost_function\n",
    "    cost_function_1 = data2_1.map(lambda x: x[1]).values().sum()\n",
    "    cost_list1_1.append(cost_function_1)\n",
    "    \n",
    "    #new_center\n",
    "    distribute_1 = data2_1.map(lambda x: (x[1][0],x[0]))\n",
    "    cluster_1 = distribute_1.groupByKey()\n",
    "    new_center_1 = cluster_1.map(mapper2_1)\n",
    "    dict_c2.update(new_center_1.collect())"
   ]
  },
  {
   "cell_type": "code",
   "execution_count": null,
   "metadata": {},
   "outputs": [],
   "source": []
  },
  {
   "cell_type": "markdown",
   "metadata": {},
   "source": [
    "# iteration=20 "
   ]
  },
  {
   "cell_type": "code",
   "execution_count": 241,
   "metadata": {},
   "outputs": [],
   "source": [
    "percentage_improvement_c2_e = abs(cost_list1_1[-1]-cost_list1_1[0])/cost_list1_1[0] "
   ]
  },
  {
   "cell_type": "code",
   "execution_count": 242,
   "metadata": {},
   "outputs": [
    {
     "data": {
      "text/plain": [
       "0.79437750291599"
      ]
     },
     "execution_count": 242,
     "metadata": {},
     "output_type": "execute_result"
    }
   ],
   "source": [
    "percentage_improvement_c2_e"
   ]
  },
  {
   "cell_type": "code",
   "execution_count": 243,
   "metadata": {},
   "outputs": [],
   "source": [
    "list_data_1 = list(new_center_1.collect())"
   ]
  },
  {
   "cell_type": "code",
   "execution_count": 244,
   "metadata": {},
   "outputs": [],
   "source": [
    "list_data_1.sort()"
   ]
  },
  {
   "cell_type": "code",
   "execution_count": 245,
   "metadata": {},
   "outputs": [],
   "source": [
    "def mapper4_1(x):\n",
    "    list4 = []\n",
    "    list5 = []\n",
    "    for c in list_data_1:\n",
    "        if c[0] <= x[0]:\n",
    "            list4.append(0.0)\n",
    "            list5.append(0.0)\n",
    "        else:\n",
    "            sum_4 = 0\n",
    "            sum_5 = 0\n",
    "            for k in range(len(x[1])):\n",
    "                sum_4 += (x[1][k]-c[1][k]) ** 2\n",
    "                sum_5 += abs(x[1][k]-c[1][k])\n",
    "            list4.append(sum_4 ** (1/2))\n",
    "            list5.append(sum_5)\n",
    "    return (x[0],list4,list5)"
   ]
  },
  {
   "cell_type": "code",
   "execution_count": 246,
   "metadata": {},
   "outputs": [],
   "source": [
    "new_center_list_1 = new_center_1.map(mapper4_1)"
   ]
  },
  {
   "cell_type": "code",
   "execution_count": 290,
   "metadata": {},
   "outputs": [],
   "source": [
    "ec2 = list(new_center_list_1.collect())"
   ]
  },
  {
   "cell_type": "code",
   "execution_count": null,
   "metadata": {},
   "outputs": [],
   "source": []
  },
  {
   "cell_type": "markdown",
   "metadata": {},
   "source": [
    "# MA_DISTANCE"
   ]
  },
  {
   "cell_type": "markdown",
   "metadata": {},
   "source": [
    "# (3)C1"
   ]
  },
  {
   "cell_type": "code",
   "execution_count": 248,
   "metadata": {},
   "outputs": [],
   "source": [
    "dict_c1 = {}\n",
    "dict_c1.update(c11.collect())"
   ]
  },
  {
   "cell_type": "code",
   "execution_count": 249,
   "metadata": {},
   "outputs": [],
   "source": [
    "def mapper1_2(x):\n",
    "    all_dis = []\n",
    "    for i in range(len(dict_c1)):\n",
    "        distance = 0\n",
    "        for c in range(len(dict_c1[0])):\n",
    "            distance += abs(eval(x[1][c])-eval(dict_c1[i][c]))\n",
    "        all_dis.append((i,distance))\n",
    "    return (x[0], min(all_dis, key=lambda y: y[1]))"
   ]
  },
  {
   "cell_type": "code",
   "execution_count": 250,
   "metadata": {},
   "outputs": [],
   "source": [
    "data2_2 = data1.map(mapper1_2)"
   ]
  },
  {
   "cell_type": "markdown",
   "metadata": {},
   "source": [
    "# cost_function_C2"
   ]
  },
  {
   "cell_type": "code",
   "execution_count": 251,
   "metadata": {},
   "outputs": [],
   "source": [
    "cost_function_2 = data2_2.map(lambda x: x[1]).values().sum()"
   ]
  },
  {
   "cell_type": "code",
   "execution_count": 252,
   "metadata": {},
   "outputs": [],
   "source": [
    "cost_list1_2 = []"
   ]
  },
  {
   "cell_type": "code",
   "execution_count": 253,
   "metadata": {},
   "outputs": [],
   "source": [
    "cost_list1_2.append(cost_function_2)"
   ]
  },
  {
   "cell_type": "markdown",
   "metadata": {},
   "source": [
    "# new_center_C2"
   ]
  },
  {
   "cell_type": "code",
   "execution_count": 254,
   "metadata": {},
   "outputs": [],
   "source": [
    "distribute_2 = data2_2.map(lambda x: (x[1][0],x[0]))"
   ]
  },
  {
   "cell_type": "code",
   "execution_count": 255,
   "metadata": {},
   "outputs": [],
   "source": [
    "cluster_2 = distribute_2.groupByKey()"
   ]
  },
  {
   "cell_type": "code",
   "execution_count": 256,
   "metadata": {},
   "outputs": [],
   "source": [
    "def mapper2_2(x):\n",
    "    list4 = []\n",
    "    amount = len(x[1])\n",
    "    for i in range(len(dict_data[0])):\n",
    "        sum2 = 0\n",
    "        for c in x[1]:\n",
    "            sum2 += eval(dict_data[c][i])\n",
    "        list4.append(sum2/amount)      \n",
    "    return (x[0],list4)"
   ]
  },
  {
   "cell_type": "code",
   "execution_count": 257,
   "metadata": {},
   "outputs": [],
   "source": [
    "new_center_2 = cluster_2.map(mapper2_2)"
   ]
  },
  {
   "cell_type": "code",
   "execution_count": 258,
   "metadata": {},
   "outputs": [],
   "source": [
    "dict_c1.update(new_center_2.collect())"
   ]
  },
  {
   "cell_type": "markdown",
   "metadata": {},
   "source": [
    "# iteration"
   ]
  },
  {
   "cell_type": "code",
   "execution_count": 259,
   "metadata": {},
   "outputs": [],
   "source": [
    "def mapper3_2(x):\n",
    "    all_dis = []\n",
    "    for i in range(len(dict_c1)):\n",
    "        distance = 0\n",
    "        for c in range(len(dict_c1[0])):\n",
    "            distance += abs(eval(x[1][c])-dict_c1[i][c])\n",
    "        all_dis.append((i,distance))\n",
    "    return (x[0], min(all_dis, key=lambda y: y[1]))"
   ]
  },
  {
   "cell_type": "code",
   "execution_count": 260,
   "metadata": {},
   "outputs": [],
   "source": [
    "for i in range(19):\n",
    "    data2_2 = data1.map(mapper3_2)\n",
    "    \n",
    "    #cost_function\n",
    "    cost_function_2 = data2_2.map(lambda x: x[1]).values().sum()\n",
    "    cost_list1_2.append(cost_function_2)\n",
    "    \n",
    "    #new_center\n",
    "    distribute_2 = data2_2.map(lambda x: (x[1][0],x[0]))\n",
    "    cluster_2 = distribute_2.groupByKey()\n",
    "    new_center_2 = cluster_2.map(mapper2_2)\n",
    "    dict_c1.update(new_center_2.collect())"
   ]
  },
  {
   "cell_type": "code",
   "execution_count": null,
   "metadata": {},
   "outputs": [],
   "source": []
  },
  {
   "cell_type": "markdown",
   "metadata": {},
   "source": [
    "# iteration=20 "
   ]
  },
  {
   "cell_type": "code",
   "execution_count": 261,
   "metadata": {},
   "outputs": [],
   "source": [
    "percentage_improvement_c1_m = abs(cost_list1_2[-1]-cost_list1_2[0])/cost_list1_2[0] "
   ]
  },
  {
   "cell_type": "code",
   "execution_count": 127,
   "metadata": {},
   "outputs": [
    {
     "data": {
      "text/plain": [
       "0.18378954327236927"
      ]
     },
     "execution_count": 127,
     "metadata": {},
     "output_type": "execute_result"
    }
   ],
   "source": [
    "percentage_improvement_c1_m"
   ]
  },
  {
   "cell_type": "code",
   "execution_count": 262,
   "metadata": {},
   "outputs": [],
   "source": [
    "list_data_2 = list(new_center_2.collect())"
   ]
  },
  {
   "cell_type": "code",
   "execution_count": 263,
   "metadata": {},
   "outputs": [],
   "source": [
    "list_data_2.sort()"
   ]
  },
  {
   "cell_type": "code",
   "execution_count": 264,
   "metadata": {},
   "outputs": [],
   "source": [
    "def mapper4_2(x):\n",
    "    list4 = []\n",
    "    list5 = []\n",
    "    for c in list_data_2:\n",
    "        if c[0] <= x[0]:\n",
    "            list4.append(0.0)\n",
    "            list5.append(0.0)\n",
    "        else:\n",
    "            sum_4 = 0\n",
    "            sum_5 = 0\n",
    "            for k in range(len(x[1])):\n",
    "                sum_4 += (x[1][k]-c[1][k]) ** 2\n",
    "                sum_5 += abs(x[1][k]-c[1][k])\n",
    "            list4.append(sum_4 ** (1/2))\n",
    "            list5.append(sum_5)\n",
    "    return (x[0],list4,list5)"
   ]
  },
  {
   "cell_type": "code",
   "execution_count": 265,
   "metadata": {},
   "outputs": [],
   "source": [
    "new_center_list_2 = new_center_2.map(mapper4_2)"
   ]
  },
  {
   "cell_type": "code",
   "execution_count": 289,
   "metadata": {},
   "outputs": [],
   "source": [
    "mc1 = list(new_center_list_2.collect())"
   ]
  },
  {
   "cell_type": "code",
   "execution_count": null,
   "metadata": {},
   "outputs": [],
   "source": []
  },
  {
   "cell_type": "markdown",
   "metadata": {},
   "source": [
    "# (4)C2"
   ]
  },
  {
   "cell_type": "code",
   "execution_count": 267,
   "metadata": {},
   "outputs": [],
   "source": [
    "dict_c2 = {}\n",
    "dict_c2.update(c21.collect())"
   ]
  },
  {
   "cell_type": "code",
   "execution_count": 268,
   "metadata": {},
   "outputs": [],
   "source": [
    "def mapper1_3(x):\n",
    "    all_dis = []\n",
    "    for i in range(len(dict_c2)):\n",
    "        distance = 0\n",
    "        for c in range(len(dict_c2[0])):\n",
    "            distance += abs(eval(x[1][c])-eval(dict_c2[i][c]))\n",
    "        all_dis.append((i,distance))\n",
    "    return (x[0], min(all_dis, key=lambda y: y[1]))"
   ]
  },
  {
   "cell_type": "code",
   "execution_count": 269,
   "metadata": {},
   "outputs": [],
   "source": [
    "data2_3 = data1.map(mapper1_3)"
   ]
  },
  {
   "cell_type": "markdown",
   "metadata": {},
   "source": [
    "# cost_function_C2"
   ]
  },
  {
   "cell_type": "code",
   "execution_count": 270,
   "metadata": {},
   "outputs": [],
   "source": [
    "cost_function_3 = data2_3.map(lambda x: x[1]).values().sum()"
   ]
  },
  {
   "cell_type": "code",
   "execution_count": 271,
   "metadata": {},
   "outputs": [],
   "source": [
    "cost_list1_3 = []"
   ]
  },
  {
   "cell_type": "code",
   "execution_count": 272,
   "metadata": {},
   "outputs": [],
   "source": [
    "cost_list1_3.append(cost_function_3)"
   ]
  },
  {
   "cell_type": "markdown",
   "metadata": {},
   "source": [
    "# new_center_C2"
   ]
  },
  {
   "cell_type": "code",
   "execution_count": 273,
   "metadata": {},
   "outputs": [],
   "source": [
    "distribute_3 = data2_3.map(lambda x: (x[1][0],x[0]))"
   ]
  },
  {
   "cell_type": "code",
   "execution_count": 274,
   "metadata": {},
   "outputs": [],
   "source": [
    "cluster_3 = distribute_3.groupByKey()"
   ]
  },
  {
   "cell_type": "code",
   "execution_count": 275,
   "metadata": {},
   "outputs": [],
   "source": [
    "def mapper2_3(x):\n",
    "    list4 = []\n",
    "    amount = len(x[1])\n",
    "    for i in range(len(dict_data[0])):\n",
    "        sum2 = 0\n",
    "        for c in x[1]:\n",
    "            sum2 += eval(dict_data[c][i])\n",
    "        list4.append(sum2/amount)      \n",
    "    return (x[0],list4)"
   ]
  },
  {
   "cell_type": "code",
   "execution_count": 276,
   "metadata": {},
   "outputs": [],
   "source": [
    "new_center_3 = cluster_3.map(mapper2_3)"
   ]
  },
  {
   "cell_type": "code",
   "execution_count": 277,
   "metadata": {},
   "outputs": [],
   "source": [
    "dict_c2.update(new_center_3.collect())"
   ]
  },
  {
   "cell_type": "markdown",
   "metadata": {},
   "source": [
    "# iteration"
   ]
  },
  {
   "cell_type": "code",
   "execution_count": 278,
   "metadata": {},
   "outputs": [],
   "source": [
    "def mapper3_3(x):\n",
    "    all_dis = []\n",
    "    for i in range(len(dict_c2)):\n",
    "        distance = 0\n",
    "        for c in range(len(dict_c2[0])):\n",
    "            distance += abs(eval(x[1][c])-dict_c2[i][c])\n",
    "        all_dis.append((i,distance))\n",
    "    return (x[0], min(all_dis, key=lambda y: y[1]))"
   ]
  },
  {
   "cell_type": "code",
   "execution_count": 279,
   "metadata": {},
   "outputs": [],
   "source": [
    "for i in range(19):\n",
    "    data2_3 = data1.map(mapper3_3)\n",
    "    \n",
    "    #cost_function\n",
    "    cost_function_3 = data2_3.map(lambda x: x[1]).values().sum()\n",
    "    cost_list1_3.append(cost_function_3)\n",
    "    \n",
    "    #new_center\n",
    "    distribute_3 = data2_3.map(lambda x: (x[1][0],x[0]))\n",
    "    cluster_3 = distribute_3.groupByKey()\n",
    "    new_center_3 = cluster_3.map(mapper2)\n",
    "    dict_c2.update(new_center_3.collect())"
   ]
  },
  {
   "cell_type": "code",
   "execution_count": null,
   "metadata": {},
   "outputs": [],
   "source": []
  },
  {
   "cell_type": "markdown",
   "metadata": {},
   "source": [
    "# iteration=20 "
   ]
  },
  {
   "cell_type": "code",
   "execution_count": 280,
   "metadata": {},
   "outputs": [],
   "source": [
    "percentage_improvement_c2_m = abs(cost_list1_3[-1]-cost_list1_3[0])/cost_list1_3[0] "
   ]
  },
  {
   "cell_type": "code",
   "execution_count": 147,
   "metadata": {},
   "outputs": [
    {
     "data": {
      "text/plain": [
       "0.5468569434813413"
      ]
     },
     "execution_count": 147,
     "metadata": {},
     "output_type": "execute_result"
    }
   ],
   "source": [
    "percentage_improvement_c2_m"
   ]
  },
  {
   "cell_type": "code",
   "execution_count": 281,
   "metadata": {},
   "outputs": [],
   "source": [
    "list_data_3 = list(new_center_3.collect())"
   ]
  },
  {
   "cell_type": "code",
   "execution_count": 282,
   "metadata": {},
   "outputs": [],
   "source": [
    "list_data_3.sort()"
   ]
  },
  {
   "cell_type": "code",
   "execution_count": 283,
   "metadata": {},
   "outputs": [],
   "source": [
    "def mapper4_3(x):\n",
    "    list4 = []\n",
    "    list5 = []\n",
    "    for c in list_data_3:\n",
    "        if c[0] <= x[0]:\n",
    "            list4.append(0.0)\n",
    "            list5.append(0.0)\n",
    "        else:\n",
    "            sum_4 = 0\n",
    "            sum_5 = 0\n",
    "            for k in range(len(x[1])):\n",
    "                sum_4 += (x[1][k]-c[1][k]) ** 2\n",
    "                sum_5 += abs(x[1][k]-c[1][k])\n",
    "            list4.append(sum_4 ** (1/2))\n",
    "            list5.append(sum_5)\n",
    "    return (x[0],list4,list5)"
   ]
  },
  {
   "cell_type": "code",
   "execution_count": 284,
   "metadata": {},
   "outputs": [],
   "source": [
    "new_center_list_3 = new_center_3.map(mapper4_3)"
   ]
  },
  {
   "cell_type": "code",
   "execution_count": 288,
   "metadata": {},
   "outputs": [],
   "source": [
    "mc2 = list(new_center_list_3.collect())"
   ]
  },
  {
   "cell_type": "code",
   "execution_count": null,
   "metadata": {},
   "outputs": [],
   "source": []
  },
  {
   "cell_type": "code",
   "execution_count": null,
   "metadata": {},
   "outputs": [],
   "source": []
  },
  {
   "cell_type": "code",
   "execution_count": null,
   "metadata": {},
   "outputs": [],
   "source": []
  },
  {
   "cell_type": "markdown",
   "metadata": {},
   "source": [
    "# plot"
   ]
  },
  {
   "cell_type": "code",
   "execution_count": 153,
   "metadata": {},
   "outputs": [],
   "source": [
    "import matplotlib.pyplot as plt"
   ]
  },
  {
   "cell_type": "code",
   "execution_count": 162,
   "metadata": {},
   "outputs": [
    {
     "data": {
      "text/plain": [
       "<Figure size 1500x1000 with 0 Axes>"
      ]
     },
     "execution_count": 162,
     "metadata": {},
     "output_type": "execute_result"
    },
    {
     "data": {
      "text/plain": [
       "<Figure size 1500x1000 with 0 Axes>"
      ]
     },
     "metadata": {},
     "output_type": "display_data"
    }
   ],
   "source": [
    "plt.figure(figsize=(15,10),dpi=100)"
   ]
  },
  {
   "cell_type": "code",
   "execution_count": 163,
   "metadata": {},
   "outputs": [],
   "source": [
    "iteration = [i for i in range(1,21)]"
   ]
  },
  {
   "cell_type": "code",
   "execution_count": 165,
   "metadata": {
    "scrolled": true
   },
   "outputs": [
    {
     "data": {
      "text/plain": [
       "[<matplotlib.lines.Line2D at 0x2861650a208>]"
      ]
     },
     "execution_count": 165,
     "metadata": {},
     "output_type": "execute_result"
    },
    {
     "data": {
      "image/png": "[encoded data removed]",
      "text/plain": [
       "<Figure size 432x288 with 1 Axes>"
      ]
     },
     "metadata": {
      "needs_background": "light"
     },
     "output_type": "display_data"
    }
   ],
   "source": [
    "plt.plot(iteration,cost_list1,'s-',color = 'r', label=\"c1\")\n",
    "plt.plot(iteration,cost_list1_1,'o-',color = 'g', label=\"c2\")"
   ]
  },
  {
   "cell_type": "code",
   "execution_count": null,
   "metadata": {},
   "outputs": [],
   "source": [
    "plt.figure(figsize=(15,10),dpi=100)"
   ]
  },
  {
   "cell_type": "code",
   "execution_count": 171,
   "metadata": {
    "scrolled": true
   },
   "outputs": [
    {
     "data": {
      "text/plain": [
       "[<matplotlib.lines.Line2D at 0x28619d6f048>]"
      ]
     },
     "execution_count": 171,
     "metadata": {},
     "output_type": "execute_result"
    },
    {
     "data": {
      "image/png": "[encoded data removed]",
      "text/plain": [
       "<Figure size 432x288 with 1 Axes>"
      ]
     },
     "metadata": {
      "needs_background": "light"
     },
     "output_type": "display_data"
    }
   ],
   "source": [
    "plt.plot(iteration,cost_list1_2,'s-',color = 'r', label=\"c1\")\n",
    "plt.plot(iteration,cost_list1_3,'o-',color = 'g', label=\"c2\")"
   ]
  },
  {
   "cell_type": "code",
   "execution_count": 359,
   "metadata": {},
   "outputs": [],
   "source": [
    "dict_plot = {\"Round1\":cost_list1,\"Round2\":cost_list1_1}"
   ]
  },
  {
   "cell_type": "code",
   "execution_count": 360,
   "metadata": {},
   "outputs": [],
   "source": [
    "dict_df = DataFrame(dict_plot)"
   ]
  },
  {
   "cell_type": "code",
   "execution_count": 362,
   "metadata": {},
   "outputs": [],
   "source": [
    "dict_df.to_csv('C:\\\\Users\\\\admin\\\\Desktop\\\\eu.csv')"
   ]
  },
  {
   "cell_type": "code",
   "execution_count": 363,
   "metadata": {},
   "outputs": [],
   "source": [
    "dict_plot1 = {\"Round1\":cost_list1_2,\"Round2\":cost_list1_3}\n",
    "dict_df_1 = DataFrame(dict_plot1)\n",
    "dict_df_1.to_csv('C:\\\\Users\\\\admin\\\\Desktop\\\\ma.csv')"
   ]
  },
  {
   "cell_type": "markdown",
   "metadata": {},
   "source": [
    "# table"
   ]
  },
  {
   "cell_type": "markdown",
   "metadata": {},
   "source": [
    "# EU"
   ]
  },
  {
   "cell_type": "code",
   "execution_count": 352,
   "metadata": {},
   "outputs": [],
   "source": [
    "em1 = []\n",
    "ee1 = []\n",
    "ec1.sort()\n",
    "for c in ec1:\n",
    "    ee1.append(c[1])\n",
    "    em1.append(c[2])"
   ]
  },
  {
   "cell_type": "code",
   "execution_count": 353,
   "metadata": {},
   "outputs": [],
   "source": [
    "em2 = []\n",
    "ee2 = []\n",
    "ec2.sort()\n",
    "for c in ec2:\n",
    "    ee2.append(c[1])\n",
    "    em2.append(c[2])"
   ]
  },
  {
   "cell_type": "markdown",
   "metadata": {},
   "source": [
    "# MA"
   ]
  },
  {
   "cell_type": "code",
   "execution_count": 354,
   "metadata": {},
   "outputs": [],
   "source": [
    "me1 = []\n",
    "mm1 = []\n",
    "mc1.sort()\n",
    "for c in mc1:\n",
    "    me1.append(c[1])\n",
    "    mm1.append(c[2])"
   ]
  },
  {
   "cell_type": "code",
   "execution_count": 355,
   "metadata": {},
   "outputs": [],
   "source": [
    "me2 = []\n",
    "mm2 = []\n",
    "mc2.sort()\n",
    "for c in mc2:\n",
    "    me2.append(c[1])\n",
    "    mm2.append(c[2])"
   ]
  },
  {
   "cell_type": "code",
   "execution_count": 348,
   "metadata": {},
   "outputs": [],
   "source": [
    "from pandas.core.frame import DataFrame\n",
    "mm2 = DataFrame(mm2)"
   ]
  },
  {
   "cell_type": "code",
   "execution_count": 349,
   "metadata": {},
   "outputs": [],
   "source": [
    "mm2.to_csv('C:\\\\Users\\\\admin\\\\Desktop\\\\mm2.csv')"
   ]
  },
  {
   "cell_type": "code",
   "execution_count": 357,
   "metadata": {},
   "outputs": [],
   "source": [
    "em1 = DataFrame(em1)\n",
    "ee1 = DataFrame(ee1)\n",
    "em2 = DataFrame(em2)\n",
    "ee2 = DataFrame(ee2)\n",
    "me1 = DataFrame(me1)\n",
    "mm1 = DataFrame(mm1)\n",
    "me2 = DataFrame(me2)\n",
    "mm2 = DataFrame(mm2)"
   ]
  },
  {
   "cell_type": "code",
   "execution_count": 358,
   "metadata": {},
   "outputs": [],
   "source": [
    "em1.to_csv('C:\\\\Users\\\\admin\\\\Desktop\\\\em1.csv')\n",
    "ee1.to_csv('C:\\\\Users\\\\admin\\\\Desktop\\\\ee1.csv')\n",
    "em2.to_csv('C:\\\\Users\\\\admin\\\\Desktop\\\\em2.csv')\n",
    "ee2.to_csv('C:\\\\Users\\\\admin\\\\Desktop\\\\ee2.csv')\n",
    "me1.to_csv('C:\\\\Users\\\\admin\\\\Desktop\\\\me1.csv')\n",
    "mm1.to_csv('C:\\\\Users\\\\admin\\\\Desktop\\\\mm1.csv')\n",
    "me2.to_csv('C:\\\\Users\\\\admin\\\\Desktop\\\\me2.csv')\n",
    "mm2.to_csv('C:\\\\Users\\\\admin\\\\Desktop\\\\mm2.csv')"
   ]
  },
  {
   "cell_type": "code",
   "execution_count": null,
   "metadata": {},
   "outputs": [],
   "source": []
  },
  {
   "cell_type": "code",
   "execution_count": null,
   "metadata": {},
   "outputs": [],
   "source": []
  }
 ],
 "metadata": {
  "kernelspec": {
   "display_name": "Python 3",
   "language": "python",
   "name": "python3"
  },
  "language_info": {
   "codemirror_mode": {
    "name": "ipython",
    "version": 3
   },
   "file_extension": ".py",
   "mimetype": "text/x-python",
   "name": "python",
   "nbconvert_exporter": "python",
   "pygments_lexer": "ipython3",
   "version": "3.8.5"
  }
 },
 "nbformat": 4,
 "nbformat_minor": 2
}
