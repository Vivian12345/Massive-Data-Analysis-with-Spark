{
 "cells": [
  {
   "cell_type": "code",
   "execution_count": 1,
   "metadata": {},
   "outputs": [],
   "source": [
    "import findspark\n",
    "findspark.init()"
   ]
  },
  {
   "cell_type": "code",
   "execution_count": 2,
   "metadata": {},
   "outputs": [],
   "source": [
    "from pyspark import SparkConf, SparkContext\n",
    "conf = SparkConf().setMaster(\"local\").setAppName(\"PageRank\")\n",
    "sc = SparkContext(conf=conf)"
   ]
  },
  {
   "cell_type": "code",
   "execution_count": 3,
   "metadata": {},
   "outputs": [],
   "source": [
    "t_f = sc.textFile(\"p2p-Gnutella04.txt\")\n",
    "lines = t_f.map(lambda line: line.split(\"\\t\"))\n",
    "pr_rdd = lines.filter(lambda x: x[0][0] != \"#\")"
   ]
  },
  {
   "cell_type": "markdown",
   "metadata": {},
   "source": [
    "# 1.算出每一個page分出去的比例\n",
    "EX. 1 -> 2,3,4 即 1分出去給每一個page的比例是1/3"
   ]
  },
  {
   "cell_type": "code",
   "execution_count": 4,
   "metadata": {},
   "outputs": [],
   "source": [
    "reducer1 = pr_rdd.groupByKey()\n",
    "outvotes = reducer1.map(lambda x: (x[0],1/len(x[1])))\n",
    "dict1 = dict(outvotes.collect())"
   ]
  },
  {
   "cell_type": "code",
   "execution_count": 5,
   "metadata": {},
   "outputs": [],
   "source": [
    "N = 10876\n",
    "init = 1/N"
   ]
  },
  {
   "cell_type": "markdown",
   "metadata": {},
   "source": [
    "# 2.做出一個儲存所有page的pagerank的dictionary方便後面查找\n",
    "+ 一開始初始pagerank都是0.2*1/N"
   ]
  },
  {
   "cell_type": "code",
   "execution_count": 6,
   "metadata": {},
   "outputs": [],
   "source": [
    "keys = set(pr_rdd.keys().collect())\n",
    "values = set(pr_rdd.values().collect())\n",
    "set1 = keys.union(values)\n",
    "\n",
    "rj = {i:init*0.2 for i in set1}"
   ]
  },
  {
   "cell_type": "markdown",
   "metadata": {},
   "source": [
    "# 3.運算pagerank\n",
    "+ A = beta*M + (1-beta)*(1/N) = 0.8*M + 0.2*(1/N)\n",
    "+ pr_matrix輸出結果:(\"1\",(\"0\",0.34234)) -> \"0\" 給 \"1\" 0.34234 的 pagerank (只有矩陣M的部分)\n",
    "+ pr_A輸出結果: (\"1\", 0.34234) ->方便reduce\n",
    "+ pr_輸出結果: (\"1\", 0.63263) -> \"1\"拿到的所有pagerank (只有矩陣M的部分)\n",
    "+ pr_final輸出結果: (\"1\", 0.754564) -> \"1\"拿到的總pagerank (包刮M和1/N)\n",
    "+ update rj: 所有page的新pagerank"
   ]
  },
  {
   "cell_type": "code",
   "execution_count": 7,
   "metadata": {},
   "outputs": [],
   "source": [
    "pr_matrix = pr_rdd.map(lambda x: (x[1], (x[0],0.8*dict1[x[0]]*init)))\n",
    "pr_A = pr_matrix.map(lambda x: (x[0], x[1][1]))\n",
    "pr_ = pr_A.reduceByKey(lambda x,y: x+y)\n",
    "pr_final = pr_.map(lambda x: (x[0],x[1]+0.2*init))\n",
    "rj.update(pr_final.collect())"
   ]
  },
  {
   "cell_type": "markdown",
   "metadata": {},
   "source": [
    "# 4.adjustment\n",
    "+ 把rj的value加總\n",
    "+ 調整的幅度就是 (1-rj的value加總)/總頁數\n",
    "+ pr_final輸出調整過後的pagerank\n",
    "+ 把新的pagerank再update到rj裡面"
   ]
  },
  {
   "cell_type": "code",
   "execution_count": 8,
   "metadata": {},
   "outputs": [],
   "source": [
    "sum1 = sum(rj.values())\n",
    "adj = (1-sum1)/N\n",
    "pr_final = pr_final.map(lambda x: (x[0], x[1]+adj))\n",
    "rj.update(pr_final.collect())"
   ]
  },
  {
   "cell_type": "markdown",
   "metadata": {},
   "source": [
    "# 5.iteration\n",
    "+ 按照之前的邏輯再跑19個迴圈"
   ]
  },
  {
   "cell_type": "code",
   "execution_count": 9,
   "metadata": {},
   "outputs": [],
   "source": [
    "rj1 = {}\n",
    "rj1.update(rj)\n",
    "for i in range(19):\n",
    "    pr_matrix_n = pr_rdd.map(lambda x: (x[1], (x[0],0.8*dict1[x[0]]*rj1[x[0]])))\n",
    "    pr_A_n = pr_matrix_n.map(lambda x: (x[0], x[1][1]))\n",
    "    pr_n = pr_A_n.reduceByKey(lambda x,y: x+y).cache()\n",
    "    pr_final_n = pr_n.map(lambda x: (x[0],x[1]+0.2*init))\n",
    "    rj1.update(pr_final_n.collect())\n",
    "    sum2 = sum(rj1.values())\n",
    "    adj1 = (1-sum2)/N\n",
    "    pr_final_n = pr_final_n.map(lambda x: (x[0], x[1]+adj1))\n",
    "    rj1.update(pr_final_n.collect())"
   ]
  },
  {
   "cell_type": "markdown",
   "metadata": {},
   "source": [
    "# 6.排序+取小數點(到小數點第六位)"
   ]
  },
  {
   "cell_type": "code",
   "execution_count": 29,
   "metadata": {},
   "outputs": [],
   "source": [
    "pr_final_decimal = pr_final_n.map(lambda x: (x[0],(\"%.7f\" % x[1])))"
   ]
  },
  {
   "cell_type": "code",
   "execution_count": 34,
   "metadata": {},
   "outputs": [],
   "source": [
    "pr_final_top = pr_final_decimal.sortBy(lambda x: eval(x[1]),ascending=False)"
   ]
  },
  {
   "cell_type": "markdown",
   "metadata": {},
   "source": [
    "# 7.找top10\n",
    "1. ('1056', '0.0006321') \n",
    "2. ('1054', '0.0006292')\n",
    "3. ('1536', '0.0005243')\n",
    "4. ('171', '0.0005120')\n",
    "5. ('453', '0.0004959')\n",
    "6. ('407', '0.0004849')\n",
    "7. ('263', '0.0004797')\n",
    "8. ('4664', '0.0004709')\n",
    "9. ('261', '0.0004630')\n",
    "10. ('410', '0.0004613')"
   ]
  },
  {
   "cell_type": "code",
   "execution_count": 37,
   "metadata": {},
   "outputs": [
    {
     "data": {
      "text/plain": [
       "[('1056', '0.0006321'),\n",
       " ('1054', '0.0006292'),\n",
       " ('1536', '0.0005243'),\n",
       " ('171', '0.0005120'),\n",
       " ('453', '0.0004959'),\n",
       " ('407', '0.0004849'),\n",
       " ('263', '0.0004797'),\n",
       " ('4664', '0.0004709'),\n",
       " ('261', '0.0004630'),\n",
       " ('410', '0.0004613')]"
      ]
     },
     "execution_count": 37,
     "metadata": {},
     "output_type": "execute_result"
    }
   ],
   "source": [
    "pr_final_top.take(10)"
   ]
  }
 ],
 "metadata": {
  "kernelspec": {
   "display_name": "Python 3",
   "language": "python",
   "name": "python3"
  },
  "language_info": {
   "codemirror_mode": {
    "name": "ipython",
    "version": 3
   },
   "file_extension": ".py",
   "mimetype": "text/x-python",
   "name": "python",
   "nbconvert_exporter": "python",
   "pygments_lexer": "ipython3",
   "version": "3.8.5"
  }
 },
 "nbformat": 4,
 "nbformat_minor": 2
}
